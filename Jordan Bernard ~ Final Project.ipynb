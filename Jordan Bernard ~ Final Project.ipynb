{
 "cells": [
  {
   "cell_type": "markdown",
   "id": "45b5c4f2",
   "metadata": {},
   "source": [
    "# Visualizing 2020 Covid-19 Data of France in Jupyter"
   ]
  },
  {
   "cell_type": "markdown",
   "id": "94c3c6a4",
   "metadata": {},
   "source": [
    "## by Jordan Bernard"
   ]
  },
  {
   "cell_type": "markdown",
   "id": "9eefd739",
   "metadata": {},
   "source": [
    "## ↓ Data Source ↓"
   ]
  },
  {
   "cell_type": "markdown",
   "id": "be5cd26e",
   "metadata": {},
   "source": [
    "This data is from the [European Centre for Disease Prevention and Control.](https://www.ecdc.europa.eu/en/publications-data/download-todays-data-geographic-distribution-covid-19-cases-worldwide)"
   ]
  },
  {
   "cell_type": "markdown",
   "id": "d5387e53",
   "metadata": {},
   "source": [
    "![French Mask Covid Image](https://images.law.com/contrib/content/uploads/sites/378/2020/11/Coronavirus-Mask-France-Article-202011171541.jpg)"
   ]
  },
  {
   "cell_type": "code",
   "execution_count": 1,
   "id": "a70ffe52",
   "metadata": {},
   "outputs": [],
   "source": [
    "%matplotlib inline\n",
    "import pandas"
   ]
  },
  {
   "cell_type": "markdown",
   "id": "da1dea11",
   "metadata": {},
   "source": [
    "## A Small View of 2020 French Covid-19 Data"
   ]
  },
  {
   "cell_type": "code",
   "execution_count": 8,
   "id": "2c18d4ca",
   "metadata": {},
   "outputs": [
    {
     "data": {
      "text/html": [
       "<div>\n",
       "<style scoped>\n",
       "    .dataframe tbody tr th:only-of-type {\n",
       "        vertical-align: middle;\n",
       "    }\n",
       "\n",
       "    .dataframe tbody tr th {\n",
       "        vertical-align: top;\n",
       "    }\n",
       "\n",
       "    .dataframe thead th {\n",
       "        text-align: right;\n",
       "    }\n",
       "</style>\n",
       "<table border=\"1\" class=\"dataframe\">\n",
       "  <thead>\n",
       "    <tr style=\"text-align: right;\">\n",
       "      <th></th>\n",
       "      <th>dateRep</th>\n",
       "      <th>day</th>\n",
       "      <th>month</th>\n",
       "      <th>year</th>\n",
       "      <th>cases</th>\n",
       "      <th>deaths</th>\n",
       "      <th>countriesAndTerritories</th>\n",
       "      <th>geoId</th>\n",
       "      <th>countryterritoryCode</th>\n",
       "      <th>popData2019</th>\n",
       "      <th>continentExp</th>\n",
       "      <th>Cumulative_number_for_14_days_of_COVID-19_cases_per_100000</th>\n",
       "    </tr>\n",
       "  </thead>\n",
       "  <tbody>\n",
       "    <tr>\n",
       "      <th>20364</th>\n",
       "      <td>2020-12-14</td>\n",
       "      <td>14</td>\n",
       "      <td>12</td>\n",
       "      <td>2020</td>\n",
       "      <td>11533</td>\n",
       "      <td>150</td>\n",
       "      <td>France</td>\n",
       "      <td>FR</td>\n",
       "      <td>FRA</td>\n",
       "      <td>67012883.0</td>\n",
       "      <td>Europe</td>\n",
       "      <td>236.326200</td>\n",
       "    </tr>\n",
       "    <tr>\n",
       "      <th>20365</th>\n",
       "      <td>2020-12-13</td>\n",
       "      <td>13</td>\n",
       "      <td>12</td>\n",
       "      <td>2020</td>\n",
       "      <td>13947</td>\n",
       "      <td>194</td>\n",
       "      <td>France</td>\n",
       "      <td>FR</td>\n",
       "      <td>FRA</td>\n",
       "      <td>67012883.0</td>\n",
       "      <td>Europe</td>\n",
       "      <td>233.716254</td>\n",
       "    </tr>\n",
       "    <tr>\n",
       "      <th>20366</th>\n",
       "      <td>2020-12-12</td>\n",
       "      <td>12</td>\n",
       "      <td>12</td>\n",
       "      <td>2020</td>\n",
       "      <td>13406</td>\n",
       "      <td>627</td>\n",
       "      <td>France</td>\n",
       "      <td>FR</td>\n",
       "      <td>FRA</td>\n",
       "      <td>67012883.0</td>\n",
       "      <td>Europe</td>\n",
       "      <td>231.556968</td>\n",
       "    </tr>\n",
       "    <tr>\n",
       "      <th>20367</th>\n",
       "      <td>2020-12-11</td>\n",
       "      <td>11</td>\n",
       "      <td>12</td>\n",
       "      <td>2020</td>\n",
       "      <td>13750</td>\n",
       "      <td>292</td>\n",
       "      <td>France</td>\n",
       "      <td>FR</td>\n",
       "      <td>FRA</td>\n",
       "      <td>67012883.0</td>\n",
       "      <td>Europe</td>\n",
       "      <td>230.263187</td>\n",
       "    </tr>\n",
       "    <tr>\n",
       "      <th>20368</th>\n",
       "      <td>2020-12-10</td>\n",
       "      <td>10</td>\n",
       "      <td>12</td>\n",
       "      <td>2020</td>\n",
       "      <td>14595</td>\n",
       "      <td>296</td>\n",
       "      <td>France</td>\n",
       "      <td>FR</td>\n",
       "      <td>FRA</td>\n",
       "      <td>67012883.0</td>\n",
       "      <td>Europe</td>\n",
       "      <td>229.984136</td>\n",
       "    </tr>\n",
       "    <tr>\n",
       "      <th>20369</th>\n",
       "      <td>2020-12-09</td>\n",
       "      <td>9</td>\n",
       "      <td>12</td>\n",
       "      <td>2020</td>\n",
       "      <td>13713</td>\n",
       "      <td>831</td>\n",
       "      <td>France</td>\n",
       "      <td>FR</td>\n",
       "      <td>FRA</td>\n",
       "      <td>67012883.0</td>\n",
       "      <td>Europe</td>\n",
       "      <td>232.501562</td>\n",
       "    </tr>\n",
       "    <tr>\n",
       "      <th>20370</th>\n",
       "      <td>2020-12-08</td>\n",
       "      <td>8</td>\n",
       "      <td>12</td>\n",
       "      <td>2020</td>\n",
       "      <td>3411</td>\n",
       "      <td>366</td>\n",
       "      <td>France</td>\n",
       "      <td>FR</td>\n",
       "      <td>FRA</td>\n",
       "      <td>67012883.0</td>\n",
       "      <td>Europe</td>\n",
       "      <td>225.699885</td>\n",
       "    </tr>\n",
       "    <tr>\n",
       "      <th>20371</th>\n",
       "      <td>2020-12-07</td>\n",
       "      <td>7</td>\n",
       "      <td>12</td>\n",
       "      <td>2020</td>\n",
       "      <td>11022</td>\n",
       "      <td>174</td>\n",
       "      <td>France</td>\n",
       "      <td>FR</td>\n",
       "      <td>FRA</td>\n",
       "      <td>67012883.0</td>\n",
       "      <td>Europe</td>\n",
       "      <td>227.253318</td>\n",
       "    </tr>\n",
       "    <tr>\n",
       "      <th>20372</th>\n",
       "      <td>2020-12-06</td>\n",
       "      <td>6</td>\n",
       "      <td>12</td>\n",
       "      <td>2020</td>\n",
       "      <td>12923</td>\n",
       "      <td>214</td>\n",
       "      <td>France</td>\n",
       "      <td>FR</td>\n",
       "      <td>FRA</td>\n",
       "      <td>67012883.0</td>\n",
       "      <td>Europe</td>\n",
       "      <td>230.439272</td>\n",
       "    </tr>\n",
       "    <tr>\n",
       "      <th>20373</th>\n",
       "      <td>2020-12-05</td>\n",
       "      <td>5</td>\n",
       "      <td>12</td>\n",
       "      <td>2020</td>\n",
       "      <td>11221</td>\n",
       "      <td>627</td>\n",
       "      <td>France</td>\n",
       "      <td>FR</td>\n",
       "      <td>FRA</td>\n",
       "      <td>67012883.0</td>\n",
       "      <td>Europe</td>\n",
       "      <td>237.837850</td>\n",
       "    </tr>\n",
       "  </tbody>\n",
       "</table>\n",
       "</div>"
      ],
      "text/plain": [
       "         dateRep  day  month  year  cases  deaths countriesAndTerritories  \\\n",
       "20364 2020-12-14   14     12  2020  11533     150                  France   \n",
       "20365 2020-12-13   13     12  2020  13947     194                  France   \n",
       "20366 2020-12-12   12     12  2020  13406     627                  France   \n",
       "20367 2020-12-11   11     12  2020  13750     292                  France   \n",
       "20368 2020-12-10   10     12  2020  14595     296                  France   \n",
       "20369 2020-12-09    9     12  2020  13713     831                  France   \n",
       "20370 2020-12-08    8     12  2020   3411     366                  France   \n",
       "20371 2020-12-07    7     12  2020  11022     174                  France   \n",
       "20372 2020-12-06    6     12  2020  12923     214                  France   \n",
       "20373 2020-12-05    5     12  2020  11221     627                  France   \n",
       "\n",
       "      geoId countryterritoryCode  popData2019 continentExp  \\\n",
       "20364    FR                  FRA   67012883.0       Europe   \n",
       "20365    FR                  FRA   67012883.0       Europe   \n",
       "20366    FR                  FRA   67012883.0       Europe   \n",
       "20367    FR                  FRA   67012883.0       Europe   \n",
       "20368    FR                  FRA   67012883.0       Europe   \n",
       "20369    FR                  FRA   67012883.0       Europe   \n",
       "20370    FR                  FRA   67012883.0       Europe   \n",
       "20371    FR                  FRA   67012883.0       Europe   \n",
       "20372    FR                  FRA   67012883.0       Europe   \n",
       "20373    FR                  FRA   67012883.0       Europe   \n",
       "\n",
       "       Cumulative_number_for_14_days_of_COVID-19_cases_per_100000  \n",
       "20364                                         236.326200           \n",
       "20365                                         233.716254           \n",
       "20366                                         231.556968           \n",
       "20367                                         230.263187           \n",
       "20368                                         229.984136           \n",
       "20369                                         232.501562           \n",
       "20370                                         225.699885           \n",
       "20371                                         227.253318           \n",
       "20372                                         230.439272           \n",
       "20373                                         237.837850           "
      ]
     },
     "execution_count": 8,
     "metadata": {},
     "output_type": "execute_result"
    }
   ],
   "source": [
    "df = pandas.read_excel('s3://ia241jimmybuckets/COVID-19-geographic-disbtribution-worldwide-2020-12-14.xls')\n",
    "france_data = df.loc[ df['countriesAndTerritories']=='France']\n",
    "\n",
    "france_data[:10]"
   ]
  },
  {
   "cell_type": "markdown",
   "id": "a6d37ebf",
   "metadata": {},
   "source": [
    "## Question 1: How many cases have been confirmed (as of Dec. 2020) in France?"
   ]
  },
  {
   "cell_type": "code",
   "execution_count": 5,
   "id": "90deef6e",
   "metadata": {},
   "outputs": [
    {
     "data": {
      "text/plain": [
       "2376852"
      ]
     },
     "execution_count": 5,
     "metadata": {},
     "output_type": "execute_result"
    }
   ],
   "source": [
    "france_data.sum()['cases']"
   ]
  },
  {
   "cell_type": "code",
   "execution_count": 2,
   "id": "d6c2f31d",
   "metadata": {},
   "outputs": [
    {
     "name": "stdout",
     "output_type": "stream",
     "text": [
      "The number of Covid-19 cases in France as of December 2020 is 2,376,852 cases.\n"
     ]
    }
   ],
   "source": [
    "print(\"The number of Covid-19 cases in France as of December 2020 is 2,376,852 cases.\")"
   ]
  },
  {
   "cell_type": "code",
   "execution_count": 12,
   "id": "f2bf9b3e",
   "metadata": {},
   "outputs": [
    {
     "data": {
      "text/plain": [
       "<AxesSubplot:xlabel='month'>"
      ]
     },
     "execution_count": 12,
     "metadata": {},
     "output_type": "execute_result"
    },
    {
     "data": {
      "image/png": "[encoded data removed]",
      "text/plain": [
       "<Figure size 432x288 with 1 Axes>"
      ]
     },
     "metadata": {
      "needs_background": "light"
     },
     "output_type": "display_data"
    }
   ],
   "source": [
    "sum_cases_per_day = france_data.groupby('month').sum()['cases']\n",
    "sum_cases_per_day.plot()"
   ]
  },
  {
   "cell_type": "code",
   "execution_count": 23,
   "id": "2ef0ed70",
   "metadata": {},
   "outputs": [
    {
     "name": "stdout",
     "output_type": "stream",
     "text": [
      "The month with the most confirmed Covid-19 Cases in France was November. As we can see, Covid-19 infections in the country grew towards the Fall likely due to people being tired of lockdowns and sneaking around to parties and clubs.\n"
     ]
    }
   ],
   "source": [
    "print(\"The month with the most confirmed Covid-19 Cases in France was November. As we can see, Covid-19 infections in the country grew towards the Fall likely due to people being tired of lockdowns and sneaking around to parties and clubs.\")"
   ]
  },
  {
   "cell_type": "markdown",
   "id": "eb82802b",
   "metadata": {},
   "source": [
    "## Question 2: How many deaths have been confirmed  (as of Dec. 2020) in France?"
   ]
  },
  {
   "cell_type": "code",
   "execution_count": 20,
   "id": "57867ab2",
   "metadata": {},
   "outputs": [
    {
     "data": {
      "text/plain": [
       "57911"
      ]
     },
     "execution_count": 20,
     "metadata": {},
     "output_type": "execute_result"
    }
   ],
   "source": [
    "france_data.sum()['deaths']"
   ]
  },
  {
   "cell_type": "code",
   "execution_count": 3,
   "id": "8ab54bb6",
   "metadata": {},
   "outputs": [
    {
     "name": "stdout",
     "output_type": "stream",
     "text": [
      "The number of deaths in France resuting from Covid-19 as of December 2020 is 57,911 deaths.\n"
     ]
    }
   ],
   "source": [
    "print(\"The number of deaths in France resuting from Covid-19 as of December 2020 is 57,911 deaths.\")"
   ]
  },
  {
   "cell_type": "code",
   "execution_count": 20,
   "id": "75115d50",
   "metadata": {},
   "outputs": [
    {
     "data": {
      "text/plain": [
       "<AxesSubplot:xlabel='month'>"
      ]
     },
     "execution_count": 20,
     "metadata": {},
     "output_type": "execute_result"
    },
    {
     "data": {
      "image/png": "[encoded data removed]",
      "text/plain": [
       "<Figure size 432x288 with 1 Axes>"
      ]
     },
     "metadata": {
      "needs_background": "light"
     },
     "output_type": "display_data"
    }
   ],
   "source": [
    "sum_death_per_month = france_data.groupby('month').sum()['deaths']\n",
    "sum_death_per_month.plot.bar()"
   ]
  },
  {
   "cell_type": "code",
   "execution_count": 27,
   "id": "ec360eb7",
   "metadata": {},
   "outputs": [
    {
     "name": "stdout",
     "output_type": "stream",
     "text": [
      "The month with the most Covid-19 Deaths in France was April which surpassed over 20,000! The virus had just started to spread  around the world and many people were just learning how to protect themselves from this new pathogen. France, like many other  nations around the world, was unprepared for Covid-19.\n"
     ]
    }
   ],
   "source": [
    "print(\"The month with the most Covid-19 Deaths in France was April which surpassed over 20,000! The virus had just started to spread  around the world and many people were just learning how to protect themselves from this new pathogen. France, like many other nations around the world, was unprepared for Covid-19.\")"
   ]
  },
  {
   "cell_type": "markdown",
   "id": "8269c56b",
   "metadata": {},
   "source": [
    "## Question 3: How are the number of Cases is related to the number of Deaths in France?"
   ]
  },
  {
   "cell_type": "code",
   "execution_count": 30,
   "id": "c9e132b8",
   "metadata": {},
   "outputs": [
    {
     "data": {
      "text/plain": [
       "<AxesSubplot:xlabel='cases', ylabel='deaths'>"
      ]
     },
     "execution_count": 30,
     "metadata": {},
     "output_type": "execute_result"
    },
    {
     "data": {
      "image/png": "[encoded data removed]",
      "text/plain": [
       "<Figure size 432x288 with 2 Axes>"
      ]
     },
     "metadata": {
      "needs_background": "light"
     },
     "output_type": "display_data"
    }
   ],
   "source": [
    "france_data.plot.scatter(x='cases',y='deaths',c='month')"
   ]
  },
  {
   "cell_type": "code",
   "execution_count": 38,
   "id": "3810a69e",
   "metadata": {},
   "outputs": [
    {
     "name": "stdout",
     "output_type": "stream",
     "text": [
      "The Covid-19 Cases & Deaths in France are related to each other. As the year went on, both the amount of cases and deaths      continued to increase. The total number of cases in France was 2,376,852 while the total number of deaths was 57,911. Using    some basic math (deaths/cases), we can determine that 0.024% of positive Covid-19 cases in France resulted in death.\n"
     ]
    }
   ],
   "source": [
    "print(\"The Covid-19 Cases & Deaths in France are related to each other. As the year went on, both the amount of cases and deaths continued to increase. The total number of cases in France was 2,376,852 while the total number of deaths was 57,911. Using    some basic math (deaths/cases), we can determine that 0.024% of positive Covid-19 cases in France resulted in death.\")"
   ]
  },
  {
   "cell_type": "markdown",
   "id": "f9a6b4dc",
   "metadata": {},
   "source": [
    "# Conclusions and Limitations"
   ]
  },
  {
   "cell_type": "markdown",
   "id": "19a6a455",
   "metadata": {},
   "source": [
    "### The Covid-19 Pandemic hit France just has hard as other western countires. Nobody was prepared for a virus this deadly. Just as was seen in the rest of the world, France initally struggled to contain the virus and the inintal months saw a high death count. As the year moved into the Summer, France and other nations had developed measures (soical distancing and wearing a mask) to mitigate the spread of Covid-19. Towards the Fall however, there was a spike in Covid-19 deaths likely due to people going to mass gatherings like weddings or parties despite the pandemic. A limitaition of this project is that I only knew three ways to create graphs in Python. There are probably better ways to display the data that I will learn about in the future!"
   ]
  },
  {
   "cell_type": "markdown",
   "id": "a8d16893",
   "metadata": {},
   "source": [
    "# Contact Info: bernarje@dukes.jmu.edu"
   ]
  },
  {
   "cell_type": "markdown",
   "id": "32210d5c",
   "metadata": {},
   "source": [
    "## ━━━━━━━━━━━━━━━━━━━━━━━━━━━━━━━━━━━━━━━━━"
   ]
  },
  {
   "cell_type": "markdown",
   "id": "1b48bc44",
   "metadata": {},
   "source": [
    "## Thank You for viewing my IA 241 Final Project! Have An Awesome Summer Professor Wei!\n",
    "## I will see you in the Fall Semester for IA 340 & GEOG 215 😊"
   ]
  }
 ],
 "metadata": {
  "kernelspec": {
   "display_name": "conda_python3",
   "language": "python",
   "name": "conda_python3"
  },
  "language_info": {
   "codemirror_mode": {
    "name": "ipython",
    "version": 3
   },
   "file_extension": ".py",
   "mimetype": "text/x-python",
   "name": "python",
   "nbconvert_exporter": "python",
   "pygments_lexer": "ipython3",
   "version": "3.6.13"
  }
 },
 "nbformat": 4,
 "nbformat_minor": 5
}
