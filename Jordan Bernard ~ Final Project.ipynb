{
 "cells": [
  {
   "cell_type": "markdown",
   "id": "moderate-piece",
   "metadata": {},
   "source": [
    "# Visualize Covid-19 Data of France in Python"
   ]
  },
  {
   "cell_type": "markdown",
   "id": "personalized-hypothetical",
   "metadata": {},
   "source": [
    "## ↓ Data Source ↓"
   ]
  },
  {
   "cell_type": "markdown",
   "id": "tough-charles",
   "metadata": {},
   "source": [
    "This data is from the [European Centre for Disease Prevention and Control.](https://www.ecdc.europa.eu/en/publications-data/download-todays-data-geographic-distribution-covid-19-cases-worldwide)"
   ]
  },
  {
   "cell_type": "markdown",
   "id": "rapid-amendment",
   "metadata": {},
   "source": [
    "![French Mask Covid Image](https://images.law.com/contrib/content/uploads/sites/378/2020/11/Coronavirus-Mask-France-Article-202011171541.jpg)"
   ]
  },
  {
   "cell_type": "code",
   "execution_count": 5,
   "id": "informative-package",
   "metadata": {},
   "outputs": [],
   "source": [
    "%matplotlib inline\n",
    "import pandas"
   ]
  },
  {
   "cell_type": "markdown",
   "id": "norman-belgium",
   "metadata": {},
   "source": [
    "## A Small View of French Covid-19 Data"
   ]
  },
  {
   "cell_type": "code",
   "execution_count": 10,
   "id": "stretch-dallas",
   "metadata": {},
   "outputs": [
    {
     "data": {
      "text/html": [
       "<div>\n",
       "<style scoped>\n",
       "    .dataframe tbody tr th:only-of-type {\n",
       "        vertical-align: middle;\n",
       "    }\n",
       "\n",
       "    .dataframe tbody tr th {\n",
       "        vertical-align: top;\n",
       "    }\n",
       "\n",
       "    .dataframe thead th {\n",
       "        text-align: right;\n",
       "    }\n",
       "</style>\n",
       "<table border=\"1\" class=\"dataframe\">\n",
       "  <thead>\n",
       "    <tr style=\"text-align: right;\">\n",
       "      <th></th>\n",
       "      <th>dateRep</th>\n",
       "      <th>day</th>\n",
       "      <th>month</th>\n",
       "      <th>year</th>\n",
       "      <th>cases</th>\n",
       "      <th>deaths</th>\n",
       "      <th>countriesAndTerritories</th>\n",
       "      <th>geoId</th>\n",
       "      <th>countryterritoryCode</th>\n",
       "      <th>popData2019</th>\n",
       "      <th>continentExp</th>\n",
       "      <th>Cumulative_number_for_14_days_of_COVID-19_cases_per_100000</th>\n",
       "    </tr>\n",
       "  </thead>\n",
       "  <tbody>\n",
       "    <tr>\n",
       "      <th>20364</th>\n",
       "      <td>2020-12-14</td>\n",
       "      <td>14</td>\n",
       "      <td>12</td>\n",
       "      <td>2020</td>\n",
       "      <td>11533</td>\n",
       "      <td>150</td>\n",
       "      <td>France</td>\n",
       "      <td>FR</td>\n",
       "      <td>FRA</td>\n",
       "      <td>67012883.0</td>\n",
       "      <td>Europe</td>\n",
       "      <td>236.326200</td>\n",
       "    </tr>\n",
       "    <tr>\n",
       "      <th>20365</th>\n",
       "      <td>2020-12-13</td>\n",
       "      <td>13</td>\n",
       "      <td>12</td>\n",
       "      <td>2020</td>\n",
       "      <td>13947</td>\n",
       "      <td>194</td>\n",
       "      <td>France</td>\n",
       "      <td>FR</td>\n",
       "      <td>FRA</td>\n",
       "      <td>67012883.0</td>\n",
       "      <td>Europe</td>\n",
       "      <td>233.716254</td>\n",
       "    </tr>\n",
       "    <tr>\n",
       "      <th>20366</th>\n",
       "      <td>2020-12-12</td>\n",
       "      <td>12</td>\n",
       "      <td>12</td>\n",
       "      <td>2020</td>\n",
       "      <td>13406</td>\n",
       "      <td>627</td>\n",
       "      <td>France</td>\n",
       "      <td>FR</td>\n",
       "      <td>FRA</td>\n",
       "      <td>67012883.0</td>\n",
       "      <td>Europe</td>\n",
       "      <td>231.556968</td>\n",
       "    </tr>\n",
       "    <tr>\n",
       "      <th>20367</th>\n",
       "      <td>2020-12-11</td>\n",
       "      <td>11</td>\n",
       "      <td>12</td>\n",
       "      <td>2020</td>\n",
       "      <td>13750</td>\n",
       "      <td>292</td>\n",
       "      <td>France</td>\n",
       "      <td>FR</td>\n",
       "      <td>FRA</td>\n",
       "      <td>67012883.0</td>\n",
       "      <td>Europe</td>\n",
       "      <td>230.263187</td>\n",
       "    </tr>\n",
       "    <tr>\n",
       "      <th>20368</th>\n",
       "      <td>2020-12-10</td>\n",
       "      <td>10</td>\n",
       "      <td>12</td>\n",
       "      <td>2020</td>\n",
       "      <td>14595</td>\n",
       "      <td>296</td>\n",
       "      <td>France</td>\n",
       "      <td>FR</td>\n",
       "      <td>FRA</td>\n",
       "      <td>67012883.0</td>\n",
       "      <td>Europe</td>\n",
       "      <td>229.984136</td>\n",
       "    </tr>\n",
       "    <tr>\n",
       "      <th>20369</th>\n",
       "      <td>2020-12-09</td>\n",
       "      <td>9</td>\n",
       "      <td>12</td>\n",
       "      <td>2020</td>\n",
       "      <td>13713</td>\n",
       "      <td>831</td>\n",
       "      <td>France</td>\n",
       "      <td>FR</td>\n",
       "      <td>FRA</td>\n",
       "      <td>67012883.0</td>\n",
       "      <td>Europe</td>\n",
       "      <td>232.501562</td>\n",
       "    </tr>\n",
       "    <tr>\n",
       "      <th>20370</th>\n",
       "      <td>2020-12-08</td>\n",
       "      <td>8</td>\n",
       "      <td>12</td>\n",
       "      <td>2020</td>\n",
       "      <td>3411</td>\n",
       "      <td>366</td>\n",
       "      <td>France</td>\n",
       "      <td>FR</td>\n",
       "      <td>FRA</td>\n",
       "      <td>67012883.0</td>\n",
       "      <td>Europe</td>\n",
       "      <td>225.699885</td>\n",
       "    </tr>\n",
       "    <tr>\n",
       "      <th>20371</th>\n",
       "      <td>2020-12-07</td>\n",
       "      <td>7</td>\n",
       "      <td>12</td>\n",
       "      <td>2020</td>\n",
       "      <td>11022</td>\n",
       "      <td>174</td>\n",
       "      <td>France</td>\n",
       "      <td>FR</td>\n",
       "      <td>FRA</td>\n",
       "      <td>67012883.0</td>\n",
       "      <td>Europe</td>\n",
       "      <td>227.253318</td>\n",
       "    </tr>\n",
       "    <tr>\n",
       "      <th>20372</th>\n",
       "      <td>2020-12-06</td>\n",
       "      <td>6</td>\n",
       "      <td>12</td>\n",
       "      <td>2020</td>\n",
       "      <td>12923</td>\n",
       "      <td>214</td>\n",
       "      <td>France</td>\n",
       "      <td>FR</td>\n",
       "      <td>FRA</td>\n",
       "      <td>67012883.0</td>\n",
       "      <td>Europe</td>\n",
       "      <td>230.439272</td>\n",
       "    </tr>\n",
       "    <tr>\n",
       "      <th>20373</th>\n",
       "      <td>2020-12-05</td>\n",
       "      <td>5</td>\n",
       "      <td>12</td>\n",
       "      <td>2020</td>\n",
       "      <td>11221</td>\n",
       "      <td>627</td>\n",
       "      <td>France</td>\n",
       "      <td>FR</td>\n",
       "      <td>FRA</td>\n",
       "      <td>67012883.0</td>\n",
       "      <td>Europe</td>\n",
       "      <td>237.837850</td>\n",
       "    </tr>\n",
       "  </tbody>\n",
       "</table>\n",
       "</div>"
      ],
      "text/plain": [
       "         dateRep  day  month  year  cases  deaths countriesAndTerritories  \\\n",
       "20364 2020-12-14   14     12  2020  11533     150                  France   \n",
       "20365 2020-12-13   13     12  2020  13947     194                  France   \n",
       "20366 2020-12-12   12     12  2020  13406     627                  France   \n",
       "20367 2020-12-11   11     12  2020  13750     292                  France   \n",
       "20368 2020-12-10   10     12  2020  14595     296                  France   \n",
       "20369 2020-12-09    9     12  2020  13713     831                  France   \n",
       "20370 2020-12-08    8     12  2020   3411     366                  France   \n",
       "20371 2020-12-07    7     12  2020  11022     174                  France   \n",
       "20372 2020-12-06    6     12  2020  12923     214                  France   \n",
       "20373 2020-12-05    5     12  2020  11221     627                  France   \n",
       "\n",
       "      geoId countryterritoryCode  popData2019 continentExp  \\\n",
       "20364    FR                  FRA   67012883.0       Europe   \n",
       "20365    FR                  FRA   67012883.0       Europe   \n",
       "20366    FR                  FRA   67012883.0       Europe   \n",
       "20367    FR                  FRA   67012883.0       Europe   \n",
       "20368    FR                  FRA   67012883.0       Europe   \n",
       "20369    FR                  FRA   67012883.0       Europe   \n",
       "20370    FR                  FRA   67012883.0       Europe   \n",
       "20371    FR                  FRA   67012883.0       Europe   \n",
       "20372    FR                  FRA   67012883.0       Europe   \n",
       "20373    FR                  FRA   67012883.0       Europe   \n",
       "\n",
       "       Cumulative_number_for_14_days_of_COVID-19_cases_per_100000  \n",
       "20364                                         236.326200           \n",
       "20365                                         233.716254           \n",
       "20366                                         231.556968           \n",
       "20367                                         230.263187           \n",
       "20368                                         229.984136           \n",
       "20369                                         232.501562           \n",
       "20370                                         225.699885           \n",
       "20371                                         227.253318           \n",
       "20372                                         230.439272           \n",
       "20373                                         237.837850           "
      ]
     },
     "execution_count": 10,
     "metadata": {},
     "output_type": "execute_result"
    }
   ],
   "source": [
    "france_data = df.loc[ df['countriesAndTerritories']=='France']\n",
    "\n",
    "france_data[:10]"
   ]
  },
  {
   "cell_type": "markdown",
   "id": "proud-english",
   "metadata": {},
   "source": [
    "## Question 1: How many cases have been confirmed (as of Dec. 2020) in France?"
   ]
  },
  {
   "cell_type": "code",
   "execution_count": 21,
   "id": "likely-alberta",
   "metadata": {},
   "outputs": [
    {
     "data": {
      "text/plain": [
       "2376852"
      ]
     },
     "execution_count": 21,
     "metadata": {},
     "output_type": "execute_result"
    }
   ],
   "source": [
    "france_data.sum()['cases']"
   ]
  },
  {
   "cell_type": "code",
   "execution_count": 42,
   "id": "seasonal-maine",
   "metadata": {},
   "outputs": [
    {
     "name": "stdout",
     "output_type": "stream",
     "text": [
      "The number of Covid-19 cases in France as of December 2020 is 2,376,852\n"
     ]
    }
   ],
   "source": [
    "print(\"The number of Covid-19 cases in France as of December 2020 is 2,376,852 cases.\")"
   ]
  },
  {
   "cell_type": "markdown",
   "id": "dominant-arrest",
   "metadata": {},
   "source": [
    "## Question 2: How many deaths have been confirmed  (as of Dec. 2020) in France?"
   ]
  },
  {
   "cell_type": "code",
   "execution_count": 20,
   "id": "structural-present",
   "metadata": {},
   "outputs": [
    {
     "data": {
      "text/plain": [
       "57911"
      ]
     },
     "execution_count": 20,
     "metadata": {},
     "output_type": "execute_result"
    }
   ],
   "source": [
    "france_data.sum()['deaths']"
   ]
  },
  {
   "cell_type": "code",
   "execution_count": 43,
   "id": "perfect-sleep",
   "metadata": {},
   "outputs": [
    {
     "name": "stdout",
     "output_type": "stream",
     "text": [
      "The number of Covid-19 deaths in France as of December 2020 is 57,911.\n"
     ]
    }
   ],
   "source": [
    "print(\"The number of Covid-19 deaths in France as of December 2020 is 57,911.\")"
   ]
  },
  {
   "cell_type": "markdown",
   "id": "animated-links",
   "metadata": {},
   "source": [
    "## Question 3: How are the number of Cases is related to the number of Deaths in France?"
   ]
  },
  {
   "cell_type": "code",
   "execution_count": 30,
   "id": "attempted-trigger",
   "metadata": {},
   "outputs": [
    {
     "data": {
      "text/plain": [
       "<AxesSubplot:xlabel='cases', ylabel='deaths'>"
      ]
     },
     "execution_count": 30,
     "metadata": {},
     "output_type": "execute_result"
    },
    {
     "data": {
      "image/png": "[encoded data removed]",
      "text/plain": [
       "<Figure size 432x288 with 2 Axes>"
      ]
     },
     "metadata": {
      "needs_background": "light"
     },
     "output_type": "display_data"
    }
   ],
   "source": [
    "france_data.plot.scatter(x='cases',y='deaths',c='month')"
   ]
  },
  {
   "cell_type": "code",
   "execution_count": 36,
   "id": "valid-disease",
   "metadata": {},
   "outputs": [
    {
     "name": "stdout",
     "output_type": "stream",
     "text": [
      "Thank You for viewing my IA 241 Final Project! Have An Awesome Summer Professor Wei!\n",
      "I'll see you in the Fall Semester for IA 340 & GEOG 215 😊\n"
     ]
    }
   ],
   "source": [
    "print(\"Thank You for viewing my IA 241 Final Project! Have An Awesome Summer Professor Wei!\")\n",
    "print(\"I'll see you in the Fall Semester for IA 340 & GEOG 215 😊\")"
   ]
  }
 ],
 "metadata": {
  "kernelspec": {
   "display_name": "conda_python3",
   "language": "python",
   "name": "conda_python3"
  },
  "language_info": {
   "codemirror_mode": {
    "name": "ipython",
    "version": 3
   },
   "file_extension": ".py",
   "mimetype": "text/x-python",
   "name": "python",
   "nbconvert_exporter": "python",
   "pygments_lexer": "ipython3",
   "version": "3.6.13"
  }
 },
 "nbformat": 4,
 "nbformat_minor": 5
}
